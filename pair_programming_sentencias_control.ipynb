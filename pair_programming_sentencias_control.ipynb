{
 "cells": [
  {
   "cell_type": "markdown",
   "metadata": {},
   "source": [
    "1. Verificar si un número es positivo, negativo o cero\n",
    "- Descripción: Dado un número, verifica si es positivo, negativo o cero."
   ]
  },
  {
   "cell_type": "code",
   "execution_count": 18,
   "metadata": {},
   "outputs": [
    {
     "name": "stdout",
     "output_type": "stream",
     "text": [
      "Este numero es positivo\n"
     ]
    }
   ],
   "source": [
    "numero = 1\n",
    "if numero == 0: \n",
    "    print (\"Este numero es cero\")\n",
    "elif numero >= 1:\n",
    "    print (\"Este numero es positivo\")\n",
    "else:\n",
    "    print (\"Este numero es negativo\")"
   ]
  },
  {
   "cell_type": "markdown",
   "metadata": {},
   "source": [
    "2.Verificar si un número es par o impar\n",
    "- Descripción: Dado un número, verifica si es par o impar."
   ]
  },
  {
   "cell_type": "code",
   "execution_count": 22,
   "metadata": {},
   "outputs": [
    {
     "name": "stdout",
     "output_type": "stream",
     "text": [
      "Este numero es impar\n"
     ]
    }
   ],
   "source": [
    "cifra = 3\n",
    "if cifra % 2 == 0:\n",
    "    print (\"Este numero es positivo\")\n",
    "else:\n",
    "    print (\"Este numero es impar\")"
   ]
  },
  {
   "cell_type": "markdown",
   "metadata": {},
   "source": [
    "3.Verificar si un estudiante aprobó o suspendió un examen\n",
    "- Descripción: Dada la calificación de un estudiante en un examen, verifica si aprobó o suspendió (si la calificación es mayor o igual a 60 se considera aprobado)."
   ]
  },
  {
   "cell_type": "code",
   "execution_count": 25,
   "metadata": {},
   "outputs": [
    {
     "name": "stdout",
     "output_type": "stream",
     "text": [
      "El alumno ha suspendido\n"
     ]
    }
   ],
   "source": [
    "aprobado = 60\n",
    "notas_alumnos = 40\n",
    "if notas_alumnos >= 60:\n",
    "    print (\"El alumno ha aprobado\")\n",
    "else:\n",
    "    print (\"El alumno ha suspendido\")"
   ]
  },
  {
   "cell_type": "markdown",
   "metadata": {},
   "source": [
    "4. Calcular el máximo entre dos números\n",
    "- Descripción: Dados dos números, encuentra el máximo entre ellos."
   ]
  },
  {
   "cell_type": "code",
   "execution_count": 32,
   "metadata": {},
   "outputs": [
    {
     "name": "stdout",
     "output_type": "stream",
     "text": [
      "El numero maximo es 190\n"
     ]
    }
   ],
   "source": [
    "altura1 = 190\n",
    "altura2 = 180\n",
    "if altura1 > altura2:\n",
    "    print (\"El numero maximo es\", altura1)\n",
    "else:\n",
    "    print (\"El numero maximo es\", altura2)\n"
   ]
  },
  {
   "cell_type": "markdown",
   "metadata": {},
   "source": [
    "5. Verificar si una letra es una vocal o una consonante"
   ]
  },
  {
   "cell_type": "code",
   "execution_count": 41,
   "metadata": {},
   "outputs": [
    {
     "name": "stdout",
     "output_type": "stream",
     "text": [
      "Es una consonante\n"
     ]
    }
   ],
   "source": [
    "vocales= [\"a\", \"e\", \"i\", \"o\", \"u\"]\n",
    "letra = \"z\"\n",
    "if letra in vocales:\n",
    "    print (\"Es una vocal\")\n",
    "else:\n",
    "    print (\"Es una consonante\")\n"
   ]
  },
  {
   "cell_type": "markdown",
   "metadata": {},
   "source": [
    "6. Calcular el descuento en una compra según el monto total\n",
    "- Descripción: Dado el monto total de una compra, calcula el descuento aplicado según las siguientes condiciones: si el monto es mayor o igual a $100, aplica un descuento del 10%; de lo contrario, no aplica ningún descuento."
   ]
  },
  {
   "cell_type": "code",
   "execution_count": 44,
   "metadata": {},
   "outputs": [
    {
     "name": "stdout",
     "output_type": "stream",
     "text": [
      "No se aplica ningun descuento\n"
     ]
    }
   ],
   "source": [
    "cantidad = 50\n",
    "if cantidad >= 100:\n",
    "    print (\"Se aplica un descuento del 10%\")\n",
    "else:\n",
    "    print (\"No se aplica ningun descuento\")"
   ]
  },
  {
   "cell_type": "markdown",
   "metadata": {},
   "source": [
    "7. Verificar si un año es bisiesto o no\n",
    "- Descripción: Dado un año, verifica si es bisiesto o no (un año es bisiesto si es divisible entre 4, excepto aquellos divisibles entre 100 pero no entre 400)."
   ]
  },
  {
   "cell_type": "code",
   "execution_count": null,
   "metadata": {},
   "outputs": [],
   "source": [
    "#tiene que ser divisible entre 4.\n",
    "#no tiene que ser divisible entre 100 pero si entre 400."
   ]
  },
  {
   "cell_type": "code",
   "execution_count": 49,
   "metadata": {},
   "outputs": [
    {
     "name": "stdout",
     "output_type": "stream",
     "text": [
      "No es bisiesto\n"
     ]
    }
   ],
   "source": [
    "year= 2019\n",
    "if year %4 ==0:\n",
    "    if year %100 != 0:\n",
    "        print (\"Si es bisiesto\")\n",
    "    elif year %400 ==0:\n",
    "        print (\"Si es bisiesto\")\n",
    "else:\n",
    "    print (\"No es bisiesto\")"
   ]
  },
  {
   "cell_type": "markdown",
   "metadata": {},
   "source": [
    "8. Asignar una categoría a una edad\n",
    "- Descripción: Dada una edad, asigna una categoría según las siguientes condiciones: si la edad es menor de 18, la categoría es \"Menor de edad\"; si la edad está entre 18 y 64 (incluyendo ambos), la categoría es \"Adulto\"; de lo contrario, la categoría es \"Adulto mayor\"."
   ]
  },
  {
   "cell_type": "code",
   "execution_count": 60,
   "metadata": {},
   "outputs": [
    {
     "name": "stdout",
     "output_type": "stream",
     "text": [
      "Adulto\n"
     ]
    }
   ],
   "source": [
    "edad = 45\n",
    "if edad < 18:\n",
    "    print (\"Menor de edad\") \n",
    "elif edad > 18 and edad < 64:\n",
    "    print (\"Adulto\")\n",
    "else:\n",
    "    print (\"Es un adulto mayor\")"
   ]
  },
  {
   "cell_type": "markdown",
   "metadata": {},
   "source": [
    "9. Verificar si tres números forman un triángulo rectángulo\n",
    "- Descripción: Dados tres números, verifica si forman un triángulo rectángulo (si se cumple el teorema de Pitágoras)."
   ]
  },
  {
   "cell_type": "code",
   "execution_count": 4,
   "metadata": {},
   "outputs": [
    {
     "name": "stdout",
     "output_type": "stream",
     "text": [
      "25\n",
      "Estos tres numeros forman un triangulo rectangulo\n"
     ]
    }
   ],
   "source": [
    "#teorema de pitagoras es a²  + b²  = c²\n",
    "# ejemplo: 3 , 5, 5\n",
    "\n",
    "num1 = 3\n",
    "num2 = 4\n",
    "num3 = 5\n",
    "\n",
    "num_x = num1 **2 + num2**2 \n",
    "print (num_x)\n",
    "\n",
    "\n",
    "if num1**2 + num2 **2 == num3 **2:\n",
    "    print (\"Estos tres numeros forman un triangulo rectangulo\")\n",
    "else:\n",
    "    print (\"Estos tres números no forman un triangulo rectangulo\")"
   ]
  },
  {
   "cell_type": "markdown",
   "metadata": {},
   "source": [
    "10. Asignar una calificación a una puntuación\n",
    "\n",
    "Descripción: Dada una puntuación, asigna una calificación según las siguientes condiciones: \n",
    "\n",
    "- si la puntuación es mayor o igual a 90, la calificación es \"A\"; \n",
    "- si es mayor o igual a 80, la calificación es \"B\"; \n",
    "- si es mayor o igual a 70, la calificación es \"C\"; \n",
    "- si es mayor o igual a 60, la calificación es \"D\"; de lo contrario, la calificación es \"F\"."
   ]
  },
  {
   "cell_type": "code",
   "execution_count": 5,
   "metadata": {},
   "outputs": [
    {
     "name": "stdout",
     "output_type": "stream",
     "text": [
      "la calificación es \"F\"\n"
     ]
    }
   ],
   "source": [
    "puntuacion = 53\n",
    "\n",
    "if puntuacion >= 90:\n",
    "    print ('la calificación es \"A\"')\n",
    "elif puntuacion >= 80:\n",
    "    print ('la calificación es \"B\"')\n",
    "elif puntuacion >= 70:\n",
    "    print ('la calificación es \"C\"')\n",
    "elif puntuacion >= 60:\n",
    "    print ('la calificación es \"D\"')\n",
    "else:\n",
    "    print ('la calificación es \"F\"')"
   ]
  },
  {
   "cell_type": "markdown",
   "metadata": {},
   "source": [
    "11. Calcular el índice de masa corporal (IMC) y categorizarlo\n",
    "\n",
    "Descripción: \n",
    "\n",
    "- Dados el peso (en kg) y la altura (en metros) de una persona, calcula su IMC y categorízalo según las siguientes condiciones: \n",
    "- si el IMC es menor a 18.5, es \"Bajo peso\"; \n",
    "- si está entre 18.5 y 24.9 (inclusive), es \"Peso normal\";\n",
    "-  si está entre 25 y 29.9 (inclusive), es \"Sobrepeso\";\n",
    "-  de lo contrario, es \"Obesidad\"."
   ]
  },
  {
   "cell_type": "code",
   "execution_count": 6,
   "metadata": {},
   "outputs": [
    {
     "name": "stdout",
     "output_type": "stream",
     "text": [
      "Obesidad\n"
     ]
    }
   ],
   "source": [
    "IMC = 30\n",
    "\n",
    "if IMC < 18.5:\n",
    "    print (\"Bajo peso\")\n",
    "elif  18.5 <= IMC <= 24.9: #Tambien se puede expresar and IMC >= 18.5:\n",
    "    print(\"Peso normal\")\n",
    "elif 25 <= IMC <= 29.9:\n",
    "     print(\"Sobrepeso\")\n",
    "else:\n",
    "    print (\"Obesidad\")"
   ]
  },
  {
   "cell_type": "markdown",
   "metadata": {},
   "source": [
    "12 . Calcular el mayor de tres números\n",
    "- Descripción: Dados tres números, encuentra el mayor entre ellos."
   ]
  },
  {
   "cell_type": "code",
   "execution_count": 7,
   "metadata": {},
   "outputs": [
    {
     "name": "stdout",
     "output_type": "stream",
     "text": [
      "El número mayor de los tres es 190\n"
     ]
    }
   ],
   "source": [
    "importe1 = 100\n",
    "importe2 = 190\n",
    "importe3 = 50\n",
    "\n",
    "if importe1 > importe2 and importe1> importe3:\n",
    "    print (f\"El número mayor de los tres es {importe1}\")\n",
    "\n",
    "elif importe2 > importe1 and importe2 > importe3:\n",
    "    print (f\"El número mayor de los tres es {importe2}\")\n",
    "\n",
    "else:\n",
    "    print (f\"El número mayor de los tres es {importe3}\")\n",
    "    \n"
   ]
  },
  {
   "cell_type": "markdown",
   "metadata": {},
   "source": [
    "BONUS sentencias de control: Verificar la validez de una fecha\n",
    "- Descripción: Dados el día, el mes y el año de una fecha, verifica si la fecha es válida."
   ]
  },
  {
   "cell_type": "code",
   "execution_count": null,
   "metadata": {},
   "outputs": [],
   "source": []
  },
  {
   "cell_type": "markdown",
   "metadata": {},
   "source": [
    "# Ejercicios while"
   ]
  },
  {
   "cell_type": "markdown",
   "metadata": {},
   "source": [
    "1. Calcular la suma de los primeros 10 números naturales utilizando un bucle while\n",
    "\n",
    "- Descripción: Utiliza un bucle while para calcular la suma de los primeros 10 números naturales (1 + 2 + 3 + ... + 10)."
   ]
  },
  {
   "cell_type": "code",
   "execution_count": 8,
   "metadata": {},
   "outputs": [
    {
     "name": "stdout",
     "output_type": "stream",
     "text": [
      " 1\n",
      " 2\n",
      " 3\n",
      " 4\n",
      " 5\n",
      " 6\n",
      " 7\n",
      " 8\n",
      " 9\n",
      " 10\n"
     ]
    }
   ],
   "source": [
    "cantidad = 0\n",
    "\n",
    "while cantidad <10:\n",
    "    cantidad +=1\n",
    "    print (f\" {cantidad}\")"
   ]
  },
  {
   "cell_type": "markdown",
   "metadata": {},
   "source": [
    "2. Juego de adivinanza utilizando un bucle while\n",
    "- Descripción: Crea un juego de adivinanza en el que el jugador tiene que adivinar un número secreto (tendrá que ser entre el 0 y el 10). \n",
    "    \n",
    "- Utiliza un bucle while para permitir múltiples intentos hasta que el jugador adivine correctamente."
   ]
  },
  {
   "cell_type": "code",
   "execution_count": 9,
   "metadata": {},
   "outputs": [
    {
     "name": "stdout",
     "output_type": "stream",
     "text": [
      "El 1 es incorrecto. Intentalo otra vez! Te quedan 5 oportunidades\n",
      "El 2 es incorrecto. Intentalo otra vez! Te quedan 4 oportunidades\n",
      "El 3 es incorrecto. Intentalo otra vez! Te quedan 3 oportunidades\n",
      "El 2 es incorrecto. Intentalo otra vez! Te quedan 2 oportunidades\n",
      "El 3 es incorrecto. Intentalo otra vez! Te quedan 1 oportunidades\n",
      "Te has quedado sin intentos!\n"
     ]
    }
   ],
   "source": [
    "numero_secreto = 8\n",
    "\n",
    "intentos = 5\n",
    "\n",
    "\n",
    "\n",
    "num_usuario = (int (input (\"Adivina el numero secreto! \")))\n",
    "\n",
    "while num_usuario != numero_secreto:\n",
    "    if intentos <= 5 and intentos >0 :\n",
    "        print (f\"El {num_usuario} es incorrecto. Intentalo otra vez! Te quedan {intentos} oportunidades\")\n",
    "        num_usuario = (int (input (\"Adivina el numero secreto! \")))\n",
    "        intentos -= 1\n",
    "    else:\n",
    "        print (\"Te has quedado sin intentos!\")\n",
    "        break\n",
    "\n",
    "if num_usuario == numero_secreto:\n",
    "    print (f\"Bien! has acertado el número secreto. Era el {numero_secreto}\")\n",
    "       "
   ]
  }
 ],
 "metadata": {
  "kernelspec": {
   "display_name": "base",
   "language": "python",
   "name": "python3"
  },
  "language_info": {
   "codemirror_mode": {
    "name": "ipython",
    "version": 3
   },
   "file_extension": ".py",
   "mimetype": "text/x-python",
   "name": "python",
   "nbconvert_exporter": "python",
   "pygments_lexer": "ipython3",
   "version": "3.9.7"
  }
 },
 "nbformat": 4,
 "nbformat_minor": 2
}
