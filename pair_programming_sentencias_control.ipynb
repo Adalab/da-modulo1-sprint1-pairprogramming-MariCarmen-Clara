{
 "cells": [
  {
   "cell_type": "markdown",
   "metadata": {},
   "source": [
    "1. "
   ]
  },
  {
   "cell_type": "code",
   "execution_count": 18,
   "metadata": {},
   "outputs": [
    {
     "name": "stdout",
     "output_type": "stream",
     "text": [
      "Este numero es positivo\n"
     ]
    }
   ],
   "source": [
    "numero = 1\n",
    "if numero == 0: \n",
    "    print (\"Este numero es cero\")\n",
    "elif numero >= 1:\n",
    "    print (\"Este numero es positivo\")\n",
    "else:\n",
    "    print (\"Este numero es negativo\")"
   ]
  },
  {
   "cell_type": "markdown",
   "metadata": {},
   "source": [
    "2."
   ]
  },
  {
   "cell_type": "code",
   "execution_count": 22,
   "metadata": {},
   "outputs": [
    {
     "name": "stdout",
     "output_type": "stream",
     "text": [
      "Este numero es impar\n"
     ]
    }
   ],
   "source": [
    "cifra = 3\n",
    "if cifra % 2 == 0:\n",
    "    print (\"Este numero es positivo\")\n",
    "else:\n",
    "    print (\"Este numero es impar\")"
   ]
  },
  {
   "cell_type": "markdown",
   "metadata": {},
   "source": [
    "3."
   ]
  },
  {
   "cell_type": "code",
   "execution_count": 25,
   "metadata": {},
   "outputs": [
    {
     "name": "stdout",
     "output_type": "stream",
     "text": [
      "El alumno ha suspendido\n"
     ]
    }
   ],
   "source": [
    "aprobado = 60\n",
    "notas_alumnos = 40\n",
    "if notas_alumnos >= 60:\n",
    "    print (\"El alumno ha aprobado\")\n",
    "else:\n",
    "    print (\"El alumno ha suspendido\")"
   ]
  },
  {
   "cell_type": "markdown",
   "metadata": {},
   "source": [
    "4."
   ]
  },
  {
   "cell_type": "code",
   "execution_count": 32,
   "metadata": {},
   "outputs": [
    {
     "name": "stdout",
     "output_type": "stream",
     "text": [
      "El numero maximo es 190\n"
     ]
    }
   ],
   "source": [
    "altura1 = 190\n",
    "altura2 = 180\n",
    "if altura1 > altura2:\n",
    "    print (\"El numero maximo es\", altura1)\n",
    "else:\n",
    "    print (\"El numero maximo es\", altura2)\n"
   ]
  },
  {
   "cell_type": "markdown",
   "metadata": {},
   "source": [
    "5."
   ]
  },
  {
   "cell_type": "code",
   "execution_count": 41,
   "metadata": {},
   "outputs": [
    {
     "name": "stdout",
     "output_type": "stream",
     "text": [
      "Es una consonante\n"
     ]
    }
   ],
   "source": [
    "vocales= [\"a\", \"e\", \"i\", \"o\", \"u\"]\n",
    "letra = \"z\"\n",
    "if letra in vocales:\n",
    "    print (\"Es una vocal\")\n",
    "else:\n",
    "    print (\"Es una consonante\")\n"
   ]
  },
  {
   "cell_type": "markdown",
   "metadata": {},
   "source": [
    "6."
   ]
  },
  {
   "cell_type": "code",
   "execution_count": 44,
   "metadata": {},
   "outputs": [
    {
     "name": "stdout",
     "output_type": "stream",
     "text": [
      "No se aplica ningun descuento\n"
     ]
    }
   ],
   "source": [
    "cantidad = 50\n",
    "if cantidad >= 100:\n",
    "    print (\"Se aplica un descuento del 10%\")\n",
    "else:\n",
    "    print (\"No se aplica ningun descuento\")"
   ]
  },
  {
   "cell_type": "markdown",
   "metadata": {},
   "source": [
    "7."
   ]
  },
  {
   "cell_type": "code",
   "execution_count": null,
   "metadata": {},
   "outputs": [],
   "source": [
    "#tiene que ser divisible entre 4.\n",
    "#no tiene que ser divisible entre 100 pero si entre 400."
   ]
  },
  {
   "cell_type": "code",
   "execution_count": 49,
   "metadata": {},
   "outputs": [
    {
     "name": "stdout",
     "output_type": "stream",
     "text": [
      "No es bisiesto\n"
     ]
    }
   ],
   "source": [
    "year= 2019\n",
    "if year %4 ==0:\n",
    "    if year %100 != 0:\n",
    "        print (\"Si es bisiesto\")\n",
    "    elif year %400 ==0:\n",
    "        print (\"Si es bisiesto\")\n",
    "else:\n",
    "    print (\"No es bisiesto\")"
   ]
  },
  {
   "cell_type": "markdown",
   "metadata": {},
   "source": [
    "8."
   ]
  },
  {
   "cell_type": "code",
   "execution_count": 60,
   "metadata": {},
   "outputs": [
    {
     "name": "stdout",
     "output_type": "stream",
     "text": [
      "Adulto\n"
     ]
    }
   ],
   "source": [
    "edad = 45\n",
    "if edad < 18:\n",
    "    print (\"Menor de edad\") \n",
    "elif edad > 18 and edad < 64:\n",
    "    print (\"Adulto\")\n",
    "else:\n",
    "    print (\"Es un adulto mayor\")"
   ]
  },
  {
   "cell_type": "markdown",
   "metadata": {},
   "source": [
    "9."
   ]
  },
  {
   "cell_type": "code",
   "execution_count": 61,
   "metadata": {},
   "outputs": [],
   "source": [
    "#teorema de pitagoras es a al cuadrado + b al cuadrado = c al cuadrado\n",
    "num1 = 40\n",
    "num2 = 50\n",
    "num3 = 60\n",
    "if num1**2 + num2 **2 == num3 **2:\n",
    "    print (\"Estos tres numeros forman un triangulo rectangulo\")"
   ]
  }
 ],
 "metadata": {
  "kernelspec": {
   "display_name": "base",
   "language": "python",
   "name": "python3"
  },
  "language_info": {
   "codemirror_mode": {
    "name": "ipython",
    "version": 3
   },
   "file_extension": ".py",
   "mimetype": "text/x-python",
   "name": "python",
   "nbconvert_exporter": "python",
   "pygments_lexer": "ipython3",
   "version": "3.9.7"
  }
 },
 "nbformat": 4,
 "nbformat_minor": 2
}
