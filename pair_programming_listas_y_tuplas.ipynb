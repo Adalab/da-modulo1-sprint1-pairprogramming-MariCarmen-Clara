{
 "cells": [
  {
   "cell_type": "markdown",
   "metadata": {},
   "source": [
    "1.Duplicar elementos de una lista"
   ]
  },
  {
   "cell_type": "code",
   "execution_count": 1,
   "metadata": {},
   "outputs": [],
   "source": [
    "lista = [2, 4, 6, 8]\n",
    "lista.extend (lista)"
   ]
  },
  {
   "cell_type": "code",
   "execution_count": 2,
   "metadata": {},
   "outputs": [
    {
     "name": "stdout",
     "output_type": "stream",
     "text": [
      "[2, 4, 6, 8, 2, 4, 6, 8]\n"
     ]
    }
   ],
   "source": [
    "print (lista)"
   ]
  },
  {
   "cell_type": "markdown",
   "metadata": {},
   "source": [
    "2. Combinar dos listas"
   ]
  },
  {
   "cell_type": "code",
   "execution_count": 5,
   "metadata": {},
   "outputs": [],
   "source": [
    "lista1 = [1, 2, 3]\n",
    "lista2 = [4, 5, 6]\n",
    "#lista3 = lista1.extend (lista2)\n",
    "lista3 = lista1 + lista2"
   ]
  },
  {
   "cell_type": "code",
   "execution_count": 6,
   "metadata": {},
   "outputs": [
    {
     "name": "stdout",
     "output_type": "stream",
     "text": [
      "[1, 2, 3, 4, 5, 6]\n"
     ]
    }
   ],
   "source": [
    "print (lista3)"
   ]
  },
  {
   "cell_type": "code",
   "execution_count": 28,
   "metadata": {},
   "outputs": [],
   "source": [
    "lista1.append (lista2) "
   ]
  },
  {
   "cell_type": "code",
   "execution_count": 30,
   "metadata": {},
   "outputs": [
    {
     "name": "stdout",
     "output_type": "stream",
     "text": [
      "[1, 2, 3, [4, 5, 6], [4, 5, 6]]\n"
     ]
    }
   ],
   "source": [
    "print (lista1)"
   ]
  },
  {
   "cell_type": "markdown",
   "metadata": {},
   "source": [
    "3. Calcular la suma de una lista de numeros"
   ]
  },
  {
   "cell_type": "code",
   "execution_count": 27,
   "metadata": {},
   "outputs": [
    {
     "name": "stdout",
     "output_type": "stream",
     "text": [
      "21\n"
     ]
    }
   ],
   "source": [
    "print (sum(lista3))"
   ]
  },
  {
   "cell_type": "markdown",
   "metadata": {},
   "source": [
    "4. Encontrar el valor máximo de una lista"
   ]
  },
  {
   "cell_type": "code",
   "execution_count": 10,
   "metadata": {},
   "outputs": [
    {
     "name": "stdout",
     "output_type": "stream",
     "text": [
      "6\n"
     ]
    }
   ],
   "source": [
    "print (max(lista3))"
   ]
  },
  {
   "cell_type": "markdown",
   "metadata": {},
   "source": [
    "5. Calcula la longitud de una lista"
   ]
  },
  {
   "cell_type": "code",
   "execution_count": 16,
   "metadata": {},
   "outputs": [
    {
     "name": "stdout",
     "output_type": "stream",
     "text": [
      "3\n"
     ]
    }
   ],
   "source": [
    "nombres = [\"Ana\", \"Maria\", \"Lucia\"]\n",
    "print (len(nombres))"
   ]
  },
  {
   "cell_type": "markdown",
   "metadata": {},
   "source": [
    "6. Encontrar el índice de un elemento"
   ]
  },
  {
   "cell_type": "code",
   "execution_count": 19,
   "metadata": {},
   "outputs": [
    {
     "name": "stdout",
     "output_type": "stream",
     "text": [
      "1\n"
     ]
    }
   ],
   "source": [
    "print (nombres.index (\"Maria\"))"
   ]
  },
  {
   "cell_type": "markdown",
   "metadata": {},
   "source": [
    "7. Contar ocurrencias de un elemento en una lista"
   ]
  },
  {
   "cell_type": "code",
   "execution_count": 31,
   "metadata": {},
   "outputs": [
    {
     "name": "stdout",
     "output_type": "stream",
     "text": [
      "2\n"
     ]
    }
   ],
   "source": [
    "animales = [\"perros\", \"gatos\", \"perros\", \"peces\"] \n",
    "print (animales.count (\"perros\"))"
   ]
  },
  {
   "cell_type": "markdown",
   "metadata": {},
   "source": [
    "8. Obtener una sublista de una lista"
   ]
  },
  {
   "cell_type": "code",
   "execution_count": 36,
   "metadata": {},
   "outputs": [
    {
     "name": "stdout",
     "output_type": "stream",
     "text": [
      "['Lau', 'Pau', 'Leo']\n"
     ]
    }
   ],
   "source": [
    "alumnas = [\"Maria\", \"Ruth\", \"Lau\", \"Pau\", \"Leo\", \"Ana\"]\n",
    "alumnas2= alumnas [2:5]\n",
    "print (alumnas2)"
   ]
  },
  {
   "cell_type": "markdown",
   "metadata": {},
   "source": [
    "9. Obtener el último elemento de una lista"
   ]
  },
  {
   "cell_type": "code",
   "execution_count": 37,
   "metadata": {},
   "outputs": [
    {
     "name": "stdout",
     "output_type": "stream",
     "text": [
      "Ana\n"
     ]
    }
   ],
   "source": [
    "print (alumnas[-1])"
   ]
  },
  {
   "cell_type": "markdown",
   "metadata": {},
   "source": [
    "10. Obtner el último elemento  de una lista"
   ]
  },
  {
   "cell_type": "code",
   "execution_count": 39,
   "metadata": {},
   "outputs": [
    {
     "name": "stdout",
     "output_type": "stream",
     "text": [
      "verde\n"
     ]
    }
   ],
   "source": [
    "colores = [\"azul\", \"amarillo\", \"rojo\", \"negro\", \"violeta\", \"cian\", \"ultramarino\", \"verde\"]\n",
    "print (colores [-1])\n"
   ]
  },
  {
   "cell_type": "markdown",
   "metadata": {},
   "source": [
    "11. Obtener una sublista de una lista."
   ]
  },
  {
   "cell_type": "code",
   "execution_count": 40,
   "metadata": {},
   "outputs": [
    {
     "name": "stdout",
     "output_type": "stream",
     "text": [
      "['amarillo', 'rojo']\n"
     ]
    }
   ],
   "source": [
    "sublista_colores = colores [1:3]\n",
    "print (sublista_colores)"
   ]
  },
  {
   "cell_type": "markdown",
   "metadata": {},
   "source": [
    "12. Reemplazar un elemento en una lista"
   ]
  },
  {
   "cell_type": "code",
   "execution_count": 3,
   "metadata": {},
   "outputs": [
    {
     "name": "stdout",
     "output_type": "stream",
     "text": [
      "['gorrion', 'paloma', 'pato', 'loro']\n"
     ]
    }
   ],
   "source": [
    "pajaros = [\"gorrion\", \"paloma\", \"pato\", \"loro\"] \n",
    "print (pajaros)"
   ]
  },
  {
   "cell_type": "code",
   "execution_count": 5,
   "metadata": {},
   "outputs": [
    {
     "name": "stdout",
     "output_type": "stream",
     "text": [
      "['gorrion', 'cigueña', 'pato', 'loro']\n"
     ]
    }
   ],
   "source": [
    "pajaros[1] = \"cigueña\"\n",
    "print (pajaros)\n"
   ]
  },
  {
   "cell_type": "markdown",
   "metadata": {},
   "source": [
    "13. Obtener una lista inversa"
   ]
  },
  {
   "cell_type": "code",
   "execution_count": 8,
   "metadata": {},
   "outputs": [
    {
     "name": "stdout",
     "output_type": "stream",
     "text": [
      "[10, 20, 30, 40, 50]\n"
     ]
    }
   ],
   "source": [
    "numeros = [10, 20, 30, 40, 50]\n",
    "print (numeros)"
   ]
  },
  {
   "cell_type": "code",
   "execution_count": 11,
   "metadata": {},
   "outputs": [
    {
     "name": "stdout",
     "output_type": "stream",
     "text": [
      "[50, 40, 30, 20, 10]\n",
      "[50, 40, 30, 20, 10]\n"
     ]
    }
   ],
   "source": [
    "numeros.reverse()\n",
    "print (numeros) #La segunda vez ya funciona e imprime el resultado que esperamos dos veces.\n",
    "print (numeros)"
   ]
  },
  {
   "cell_type": "markdown",
   "metadata": {},
   "source": [
    "14. Ordena una lista en orden ascendente"
   ]
  },
  {
   "cell_type": "code",
   "execution_count": 17,
   "metadata": {},
   "outputs": [
    {
     "name": "stdout",
     "output_type": "stream",
     "text": [
      "[500, 400, 300, 200, 100]\n",
      "[100, 200, 300, 400, 500]\n"
     ]
    }
   ],
   "source": [
    "centenas = [500, 400, 300, 200, 100]\n",
    "print (centenas)\n",
    "centenas2 = sorted(centenas, reverse = False)\n",
    "print (centenas2)"
   ]
  },
  {
   "cell_type": "markdown",
   "metadata": {},
   "source": [
    "15. Obtener elementos pares de una lista"
   ]
  },
  {
   "cell_type": "code",
   "execution_count": 29,
   "metadata": {},
   "outputs": [
    {
     "name": "stdout",
     "output_type": "stream",
     "text": [
      "['armario', 'mesa', 'silla', 'espejo', 'cortinas', 'escritorio', 'jarron']\n"
     ]
    }
   ],
   "source": [
    "mobiliario = [\"armario\", \"mesa\", \"silla\", \"espejo\", \"cortinas\", \"escritorio\", \"jarron\"]\n",
    "print (mobiliario)"
   ]
  },
  {
   "cell_type": "code",
   "execution_count": 30,
   "metadata": {},
   "outputs": [
    {
     "name": "stdout",
     "output_type": "stream",
     "text": [
      "['mesa', 'espejo', 'escritorio']\n"
     ]
    }
   ],
   "source": [
    "print (mobiliario [1::2])"
   ]
  },
  {
   "cell_type": "markdown",
   "metadata": {},
   "source": [
    "16. Obtener una sublista saltando elementos"
   ]
  },
  {
   "cell_type": "code",
   "execution_count": 32,
   "metadata": {},
   "outputs": [
    {
     "name": "stdout",
     "output_type": "stream",
     "text": [
      "['armario', 'espejo', 'jarron']\n"
     ]
    }
   ],
   "source": [
    "mobiliario2 = mobiliario [::3]\n",
    "print (mobiliario2)"
   ]
  },
  {
   "cell_type": "markdown",
   "metadata": {},
   "source": [
    "17. Encontrar el segundo valor máximo en una lista"
   ]
  },
  {
   "cell_type": "code",
   "execution_count": 33,
   "metadata": {},
   "outputs": [
    {
     "name": "stdout",
     "output_type": "stream",
     "text": [
      "[1, 2, 3, 4, 5, 6, 7, 8]\n"
     ]
    }
   ],
   "source": [
    "fechas = [1, 2, 3, 4, 5, 6, 7, 8]\n",
    "print (fechas)"
   ]
  },
  {
   "cell_type": "code",
   "execution_count": 35,
   "metadata": {},
   "outputs": [
    {
     "name": "stdout",
     "output_type": "stream",
     "text": [
      "7\n"
     ]
    }
   ],
   "source": [
    "print (max(fechas) -1)"
   ]
  },
  {
   "cell_type": "markdown",
   "metadata": {},
   "source": [
    "18. ¿qué diferencia existe entre el .sort( ) y el sorted ()"
   ]
  },
  {
   "cell_type": "markdown",
   "metadata": {},
   "source": [
    "El sort sobreescribe los cambios de la lista original y el sorted no. En este último caso se debe crear una nueva variable para guardar los cambios."
   ]
  },
  {
   "cell_type": "markdown",
   "metadata": {},
   "source": [
    "19. Agregar elementos a una lista utilizando append y extend."
   ]
  },
  {
   "cell_type": "code",
   "execution_count": 18,
   "metadata": {},
   "outputs": [],
   "source": [
    "ideas_regalos = []"
   ]
  },
  {
   "cell_type": "code",
   "execution_count": 19,
   "metadata": {},
   "outputs": [
    {
     "name": "stdout",
     "output_type": "stream",
     "text": [
      "['collar']\n"
     ]
    }
   ],
   "source": [
    "ideas_regalos.append(\"collar\") #En esta lista hemos añadido solo un regalo.\n",
    "print (ideas_regalos)"
   ]
  },
  {
   "cell_type": "code",
   "execution_count": 20,
   "metadata": {},
   "outputs": [
    {
     "name": "stdout",
     "output_type": "stream",
     "text": [
      "['collar', 'anillo']\n"
     ]
    }
   ],
   "source": [
    "ideas_regalos.append(\"anillo\")\n",
    "print (ideas_regalos)"
   ]
  },
  {
   "cell_type": "code",
   "execution_count": 21,
   "metadata": {},
   "outputs": [
    {
     "name": "stdout",
     "output_type": "stream",
     "text": [
      "['puzzle', 'tablet']\n"
     ]
    }
   ],
   "source": [
    "mas_ideas_regalos = [\"puzzle\", \"tablet\"]\n",
    "print (mas_ideas_regalos)"
   ]
  },
  {
   "cell_type": "code",
   "execution_count": 22,
   "metadata": {},
   "outputs": [
    {
     "name": "stdout",
     "output_type": "stream",
     "text": [
      "['collar', 'anillo', 'puzzle', 'tablet']\n"
     ]
    }
   ],
   "source": [
    "ideas_regalos.extend(mas_ideas_regalos)\n",
    "print(ideas_regalos)"
   ]
  },
  {
   "cell_type": "markdown",
   "metadata": {},
   "source": [
    "20. Insertar un elemento en una posición específica"
   ]
  },
  {
   "cell_type": "code",
   "execution_count": 23,
   "metadata": {},
   "outputs": [
    {
     "name": "stdout",
     "output_type": "stream",
     "text": [
      "['gorrion', 'cigueña', 'pato', 'loro']\n"
     ]
    }
   ],
   "source": [
    "print (pajaros)"
   ]
  },
  {
   "cell_type": "code",
   "execution_count": 24,
   "metadata": {},
   "outputs": [],
   "source": [
    "posicion = int(input (\"dinos en qué posición de la lista quieres incluir águila\"))\n",
    "pajaros.insert(posicion, \"águila\")\n"
   ]
  },
  {
   "cell_type": "code",
   "execution_count": 25,
   "metadata": {},
   "outputs": [
    {
     "name": "stdout",
     "output_type": "stream",
     "text": [
      "['gorrion', 'cigueña', 'águila', 'pato', 'loro']\n"
     ]
    }
   ],
   "source": [
    "print (pajaros)"
   ]
  },
  {
   "cell_type": "markdown",
   "metadata": {},
   "source": [
    "21. Verificar si un elemento esta presente en una lista"
   ]
  },
  {
   "cell_type": "code",
   "execution_count": 31,
   "metadata": {},
   "outputs": [
    {
     "name": "stdout",
     "output_type": "stream",
     "text": [
      "True\n"
     ]
    }
   ],
   "source": [
    "respuesta2 = input(\"di un tipo de pájaro y comprobaremos si está en la lista\")\n",
    "print(respuesta2 in pajaros)"
   ]
  },
  {
   "cell_type": "markdown",
   "metadata": {},
   "source": [
    "22. Manipulación de una lista usando remove o clear."
   ]
  },
  {
   "cell_type": "code",
   "execution_count": 39,
   "metadata": {},
   "outputs": [
    {
     "name": "stdout",
     "output_type": "stream",
     "text": [
      "['cuchara', 'tenedor', 'cuchillo', 'horno', 'microondas']\n"
     ]
    }
   ],
   "source": [
    "cocina = [\"cuchara\", \"tenedor\", \"cuchillo\", \"horno\", \"microondas\"]\n",
    "cocina2 = cocina.copy()\n",
    "print (cocina2)"
   ]
  },
  {
   "cell_type": "code",
   "execution_count": 40,
   "metadata": {},
   "outputs": [
    {
     "name": "stdout",
     "output_type": "stream",
     "text": [
      "['cuchara', 'cuchillo', 'horno', 'microondas']\n"
     ]
    }
   ],
   "source": [
    "cocina2.remove(\"tenedor\")\n",
    "print (cocina2)"
   ]
  },
  {
   "cell_type": "code",
   "execution_count": 41,
   "metadata": {},
   "outputs": [
    {
     "name": "stdout",
     "output_type": "stream",
     "text": [
      "['cuchara', 'tenedor', 'cuchillo', 'horno', 'microondas']\n"
     ]
    }
   ],
   "source": [
    "#Ahora hacemos una copia para poder hacer el pop.\n",
    "cocina3 = cocina.copy()\n",
    "print (cocina3)"
   ]
  },
  {
   "cell_type": "code",
   "execution_count": 43,
   "metadata": {},
   "outputs": [
    {
     "name": "stdout",
     "output_type": "stream",
     "text": [
      "['cuchara', 'tenedor', 'cuchillo']\n"
     ]
    }
   ],
   "source": [
    "cocina3.pop(3)\n",
    "print (cocina3)"
   ]
  },
  {
   "cell_type": "markdown",
   "metadata": {},
   "source": [
    "Ejercicios de tuplas"
   ]
  },
  {
   "cell_type": "markdown",
   "metadata": {},
   "source": [
    "1. Acceder al primer elemento de una tupla"
   ]
  },
  {
   "cell_type": "code",
   "execution_count": 44,
   "metadata": {},
   "outputs": [
    {
     "name": "stdout",
     "output_type": "stream",
     "text": [
      "lunes\n"
     ]
    }
   ],
   "source": [
    "dias_semana = (\"lunes\", \"martes\", \"miercoles\", \"jueves\", \"viernes\", \"sabado\", \"domingo\")\n",
    "print (dias_semana[0])"
   ]
  },
  {
   "cell_type": "markdown",
   "metadata": {},
   "source": [
    "2. Acceder al último elemento de la tupla"
   ]
  },
  {
   "cell_type": "code",
   "execution_count": 45,
   "metadata": {},
   "outputs": [
    {
     "name": "stdout",
     "output_type": "stream",
     "text": [
      "domingo\n"
     ]
    }
   ],
   "source": [
    "print (dias_semana [-1])"
   ]
  },
  {
   "cell_type": "markdown",
   "metadata": {},
   "source": [
    "3. Obtener la longitu de una tupla"
   ]
  },
  {
   "cell_type": "code",
   "execution_count": 46,
   "metadata": {},
   "outputs": [
    {
     "name": "stdout",
     "output_type": "stream",
     "text": [
      "7\n"
     ]
    }
   ],
   "source": [
    "print (len(dias_semana))"
   ]
  },
  {
   "cell_type": "markdown",
   "metadata": {},
   "source": [
    "4. Concatenar dos tuplas"
   ]
  },
  {
   "cell_type": "code",
   "execution_count": 48,
   "metadata": {},
   "outputs": [
    {
     "name": "stdout",
     "output_type": "stream",
     "text": [
      "('lunes', 'martes', 'miercoles', 'jueves', 'viernes', 'sabado', 'domingo', 'enero', 'febrero', 'marzo')\n"
     ]
    }
   ],
   "source": [
    "meses = (\"enero\", \"febrero\", \"marzo\")\n",
    "print (dias_semana + meses)"
   ]
  },
  {
   "cell_type": "markdown",
   "metadata": {},
   "source": [
    "5. Encontrar el índice de un elemento en una tupla"
   ]
  },
  {
   "cell_type": "code",
   "execution_count": 49,
   "metadata": {},
   "outputs": [
    {
     "name": "stdout",
     "output_type": "stream",
     "text": [
      "jueves se encuentra en la posición 3\n"
     ]
    }
   ],
   "source": [
    "print (\"jueves se encuentra en la posición\", dias_semana.index(\"jueves\"))"
   ]
  },
  {
   "cell_type": "markdown",
   "metadata": {},
   "source": [
    "6. Contar ocurrencias de un elemento de una tupla."
   ]
  },
  {
   "cell_type": "code",
   "execution_count": 51,
   "metadata": {},
   "outputs": [
    {
     "name": "stdout",
     "output_type": "stream",
     "text": [
      "('lunes', 'martes', 'miercoles', 'jueves', 'viernes', 'sabado', 'domingo', 'lunes', 'martes', 'miercoles', 'jueves', 'viernes', 'sabado', 'domingo')\n"
     ]
    }
   ],
   "source": [
    "nueva_lista = dias_semana *2\n",
    "print (nueva_lista)"
   ]
  },
  {
   "cell_type": "code",
   "execution_count": 53,
   "metadata": {},
   "outputs": [
    {
     "name": "stdout",
     "output_type": "stream",
     "text": [
      "martes aparece 2 veces\n"
     ]
    }
   ],
   "source": [
    "print (\"martes aparece\", nueva_lista.count (\"martes\"), \"veces\")"
   ]
  },
  {
   "cell_type": "markdown",
   "metadata": {},
   "source": [
    "7. Obtener una subtupla de una tupla."
   ]
  },
  {
   "cell_type": "code",
   "execution_count": 55,
   "metadata": {},
   "outputs": [
    {
     "name": "stdout",
     "output_type": "stream",
     "text": [
      "(1, 2, 3, (4, 5), 6)\n"
     ]
    }
   ],
   "source": [
    "fechas = (1, 2, 3, (4, 5), 6)\n",
    "print (fechas)"
   ]
  },
  {
   "cell_type": "markdown",
   "metadata": {},
   "source": [
    "8. Invertir una tupla"
   ]
  },
  {
   "cell_type": "code",
   "execution_count": 57,
   "metadata": {},
   "outputs": [
    {
     "name": "stdout",
     "output_type": "stream",
     "text": [
      "(1, 2, 3, 4, 5)\n"
     ]
    }
   ],
   "source": [
    "numeros = (1, 2, 3, 4, 5)\n",
    "print (numeros)"
   ]
  },
  {
   "cell_type": "code",
   "execution_count": 60,
   "metadata": {},
   "outputs": [
    {
     "name": "stdout",
     "output_type": "stream",
     "text": [
      "[5, 4, 3, 2, 1]\n"
     ]
    }
   ],
   "source": [
    "numeros_inversos = sorted (numeros, reverse=True)\n",
    "print (numeros_inversos)"
   ]
  }
 ],
 "metadata": {
  "kernelspec": {
   "display_name": "base",
   "language": "python",
   "name": "python3"
  },
  "language_info": {
   "codemirror_mode": {
    "name": "ipython",
    "version": 3
   },
   "file_extension": ".py",
   "mimetype": "text/x-python",
   "name": "python",
   "nbconvert_exporter": "python",
   "pygments_lexer": "ipython3",
   "version": "3.9.7"
  }
 },
 "nbformat": 4,
 "nbformat_minor": 2
}
