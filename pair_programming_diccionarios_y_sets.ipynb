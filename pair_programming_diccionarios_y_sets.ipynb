{
 "cells": [
  {
   "cell_type": "markdown",
   "metadata": {},
   "source": [
    "# Pair programming Diccionarios y Sets"
   ]
  },
  {
   "cell_type": "markdown",
   "metadata": {},
   "source": [
    "## Ejercicios diccionarios"
   ]
  },
  {
   "cell_type": "markdown",
   "metadata": {},
   "source": [
    "1. Crear un diccionario vacío\n",
    "- Descripción: Crea un diccionario vacío sin ningún par clave-valor."
   ]
  },
  {
   "cell_type": "code",
   "execution_count": 1,
   "metadata": {},
   "outputs": [],
   "source": [
    "diccionario = { }"
   ]
  },
  {
   "cell_type": "markdown",
   "metadata": {},
   "source": [
    "2. Crear un diccionario con elementos\n",
    "- Descripción: Crea un diccionario con pares clave-valor predefinidos. Definir el diccionario con las claves y valores que querais. NOTA El diccionario debe tener al menos 5 pares de clave:valor."
   ]
  },
  {
   "cell_type": "code",
   "execution_count": 2,
   "metadata": {},
   "outputs": [],
   "source": [
    "diccionario = {\"ciudad\": \"Barcelona\",\"temperatura\": 40, \"densidad\": \"alta\", \"turismo\" : \"alto\", \"transporte_publico\": 4}"
   ]
  },
  {
   "cell_type": "markdown",
   "metadata": {},
   "source": [
    "3. Acceder al valor de una clave en un diccionario\n",
    "- Descripción: Usando el diccionario creado en el paso anterior, obtén el valor correspondiente a una clave específica que indique el usuario (debereis usar la función input() para preguntar al usuario)."
   ]
  },
  {
   "cell_type": "code",
   "execution_count": 6,
   "metadata": {},
   "outputs": [
    {
     "name": "stdout",
     "output_type": "stream",
     "text": [
      "40\n"
     ]
    }
   ],
   "source": [
    "respuesta = input(f\"Escoge una de las siguientes claves para concocer su valor: {diccionario.keys()}\")\n",
    "\n",
    "print(diccionario.get(respuesta))"
   ]
  },
  {
   "cell_type": "markdown",
   "metadata": {},
   "source": [
    "4. Agregar un nuevo par clave-valor a un diccionario\n",
    "- Descripción: Usando el diccionario creado en el ejercicio 2, agrega un nuevo par clave-valor."
   ]
  },
  {
   "cell_type": "code",
   "execution_count": 7,
   "metadata": {},
   "outputs": [
    {
     "name": "stdout",
     "output_type": "stream",
     "text": [
      "{'ciudad': 'Barcelona', 'temperatura': 40, 'densidad': 'alta', 'turismo': 'alto', 'transporte_publico': 4, 'parques': 6}\n"
     ]
    }
   ],
   "source": [
    "nuevo_elemento = {\"parques\" : 6}\n",
    "diccionario.update(nuevo_elemento)\n",
    "print(diccionario)"
   ]
  },
  {
   "cell_type": "markdown",
   "metadata": {},
   "source": [
    "5. Actualizar el valor de una clave en un diccionario\n",
    "- Descripción: Usando el diccionario creado en el ejercicio 2, actualiza el valor correspondiente a una clave existente. \n",
    "\n",
    "Ejemplo:\n",
    "\n",
    "#dado el siguiente diccionario\n",
    "{'nombre': 'Ana', 'edad': 25, 'ciudad': 'Madrid', 'hijos': 1}\n",
    "\n",
    "#el ouptut esperado es: (ha cambiado el valor de la clave edad)\n",
    "{'nombre': 'Ana', 'edad': 40, 'ciudad': 'Madrid', 'hijos': 1}"
   ]
  },
  {
   "cell_type": "code",
   "execution_count": 9,
   "metadata": {},
   "outputs": [
    {
     "data": {
      "text/plain": [
       "'alta'"
      ]
     },
     "execution_count": 9,
     "metadata": {},
     "output_type": "execute_result"
    }
   ],
   "source": [
    "diccionario.get(\"densidad\")\n"
   ]
  },
  {
   "cell_type": "code",
   "execution_count": 10,
   "metadata": {},
   "outputs": [
    {
     "name": "stdout",
     "output_type": "stream",
     "text": [
      "Ha cambiado el valor de la clave densidad:  {'ciudad': 'Barcelona', 'temperatura': 40, 'densidad': 'baja', 'turismo': 'alto', 'transporte_publico': 4, 'parques': 6}\n"
     ]
    }
   ],
   "source": [
    "diccionario[\"densidad\"] = \"baja\"\n",
    "print (\"Ha cambiado el valor de la clave densidad: \" ,diccionario)"
   ]
  },
  {
   "cell_type": "markdown",
   "metadata": {},
   "source": [
    "6. Eliminar un par clave-valor de un diccionario\n",
    "- Descripción: Usando el diccionario creado en el ejercicio 2, elimina un par clave-valor específico que indique el usuario (debereis usar la función input() para preguntar al usuario)."
   ]
  },
  {
   "cell_type": "code",
   "execution_count": 11,
   "metadata": {},
   "outputs": [
    {
     "name": "stdout",
     "output_type": "stream",
     "text": [
      "{'ciudad': 'Barcelona', 'temperatura': 40, 'densidad': 'baja', 'turismo': 'alto', 'transporte_publico': 4, 'parques': 6}\n"
     ]
    }
   ],
   "source": [
    "print (diccionario)"
   ]
  },
  {
   "cell_type": "code",
   "execution_count": 14,
   "metadata": {},
   "outputs": [
    {
     "name": "stdout",
     "output_type": "stream",
     "text": [
      "temperatura\n"
     ]
    }
   ],
   "source": [
    "#respuesta = input(\"dato que quieres eliminar de la ciudad\")\n",
    "# print(ciudades.get(respuesta))\n",
    "\n",
    "respuesta2 = input(f\"¿que quieres eliminar? { diccionario.keys()}\")\n",
    "diccionario.pop(respuesta2)\n",
    "print (respuesta2)\n",
    "\n"
   ]
  },
  {
   "cell_type": "code",
   "execution_count": 15,
   "metadata": {},
   "outputs": [
    {
     "name": "stdout",
     "output_type": "stream",
     "text": [
      "{'ciudad': 'Barcelona', 'densidad': 'baja', 'turismo': 'alto', 'transporte_publico': 4, 'parques': 6}\n"
     ]
    }
   ],
   "source": [
    "print (diccionario)"
   ]
  },
  {
   "cell_type": "markdown",
   "metadata": {},
   "source": [
    "7. Verificar si una clave está presente en un diccionario\n",
    "- Descripción: Usando el diccionario creado en el ejercicio 2, verifica si una clave específica está presente en él. La clave a buscar debe ser pasada por el usuario, debereis usar un input()."
   ]
  },
  {
   "cell_type": "code",
   "execution_count": 18,
   "metadata": {},
   "outputs": [
    {
     "name": "stdout",
     "output_type": "stream",
     "text": [
      "{'ciudad': 'Barcelona', 'temperatura': 40, 'densidad': 'alta', 'turismo': 'alto', 'transporte_publico': 4}\n"
     ]
    }
   ],
   "source": [
    "#Primero miramos que elemnts hay en diccionario\n",
    " \n",
    "print (diccionario)"
   ]
  },
  {
   "cell_type": "code",
   "execution_count": 21,
   "metadata": {},
   "outputs": [
    {
     "name": "stdout",
     "output_type": "stream",
     "text": [
      "Barcelona\n"
     ]
    }
   ],
   "source": [
    "respuesta3 = input(\"Pon una clave, así verificaremos si ésta está presente en el diccionario\")\n",
    "print (diccionario.get(respuesta3, \" la clave que estás buscando no está en el diccionario\"))"
   ]
  },
  {
   "cell_type": "markdown",
   "metadata": {},
   "source": [
    "8. Obtener una lista de todas las claves de un diccionario\n",
    "- Descripción: Usando el diccionario creado en el ejercicio 2, obtén una lista con todas las claves que contiene."
   ]
  },
  {
   "cell_type": "code",
   "execution_count": 24,
   "metadata": {},
   "outputs": [
    {
     "name": "stdout",
     "output_type": "stream",
     "text": [
      "Las claves que contiene el diccionario 'diccionario' son  dict_keys(['ciudad', 'temperatura', 'densidad', 'turismo', 'transporte_publico'])\n"
     ]
    }
   ],
   "source": [
    "diccionario = {\"ciudad\": \"Barcelona\",\"temperatura\": 40, \"densidad\": \"alta\", \"turismo\" : \"alto\", \"transporte_publico\": 4}\n",
    "\n",
    "diccionario.keys()\n",
    "print (\"Las claves que contiene el diccionario 'diccionario' son \",diccionario.keys())"
   ]
  },
  {
   "cell_type": "markdown",
   "metadata": {},
   "source": [
    "9. Obtener una lista de todos los valores de un diccionario\n",
    "- Descripción: Usando el diccionario creado en el ejercicio 2, obtén una lista con todos los valores que contiene."
   ]
  },
  {
   "cell_type": "code",
   "execution_count": 28,
   "metadata": {},
   "outputs": [
    {
     "name": "stdout",
     "output_type": "stream",
     "text": [
      "{'ciudad': 'Barcelona', 'temperatura': 40, 'densidad': 'alta', 'turismo': 'alto', 'transporte_publico': 4}\n"
     ]
    }
   ],
   "source": [
    "print (diccionario)"
   ]
  },
  {
   "cell_type": "code",
   "execution_count": 29,
   "metadata": {},
   "outputs": [
    {
     "name": "stdout",
     "output_type": "stream",
     "text": [
      "Las claves que contiene el diccionario 'diccionario' son  dict_values(['Barcelona', 40, 'alta', 'alto', 4])\n"
     ]
    }
   ],
   "source": [
    "diccionario. values()\n",
    "print (\"Las claves que contiene el diccionario 'diccionario' son \",diccionario.values())"
   ]
  },
  {
   "cell_type": "markdown",
   "metadata": {},
   "source": [
    "10. Utilizar el método setdefault() para establecer un valor predeterminado si la clave no existe\n",
    "- Descripción: Usando el diccionario creado en el ejercicio 2, obten el valor correspondiente a una clave. Si la clave no existe, establece un valor predeterminado y devuelve dicho valor."
   ]
  },
  {
   "cell_type": "code",
   "execution_count": 38,
   "metadata": {},
   "outputs": [
    {
     "name": "stdout",
     "output_type": "stream",
     "text": [
      "{'ciudad': 'Barcelona', 'temperatura': 40, 'densidad': 'alta', 'turismo': 'alto', 'transporte_publico': 4, 'idiomas': 20}\n"
     ]
    }
   ],
   "source": [
    "diccionario.setdefault (\"idiomas\", 20)\n",
    "print (diccionario)\n"
   ]
  },
  {
   "cell_type": "markdown",
   "metadata": {},
   "source": [
    "11. Manipulación de un diccionario utilizando pop() y popitem()\n",
    "- Descripción: Usando el diccionario creado en el ejercicio 2, realiza operaciones de eliminación utilizando pop() y popitem(), y observa cómo afectan al diccionario."
   ]
  },
  {
   "cell_type": "code",
   "execution_count": 39,
   "metadata": {},
   "outputs": [
    {
     "name": "stdout",
     "output_type": "stream",
     "text": [
      "{'ciudad': 'Barcelona', 'densidad': 'alta', 'turismo': 'alto', 'transporte_publico': 4, 'idiomas': 20}\n"
     ]
    }
   ],
   "source": [
    "diccionario.pop (\"temperatura\")\n",
    "print (diccionario)\n",
    "#De nuevo volvemos a quitar la temperatura."
   ]
  },
  {
   "cell_type": "code",
   "execution_count": 40,
   "metadata": {},
   "outputs": [
    {
     "data": {
      "text/plain": [
       "('idiomas', 20)"
      ]
     },
     "execution_count": 40,
     "metadata": {},
     "output_type": "execute_result"
    }
   ],
   "source": [
    "diccionario.popitem()"
   ]
  },
  {
   "cell_type": "code",
   "execution_count": 41,
   "metadata": {},
   "outputs": [
    {
     "name": "stdout",
     "output_type": "stream",
     "text": [
      "{'ciudad': 'Barcelona', 'densidad': 'alta', 'turismo': 'alto', 'transporte_publico': 4}\n"
     ]
    }
   ],
   "source": [
    "print (diccionario) #popitem() devuelve y elimina el último clave-valor del diccionario. En este caso la clave idiomas"
   ]
  },
  {
   "cell_type": "markdown",
   "metadata": {},
   "source": [
    "## Ejercicios sets"
   ]
  },
  {
   "cell_type": "markdown",
   "metadata": {},
   "source": [
    "1. Crear un conjunto vacío\n",
    "- Descripción: Crea un conjunto vacío sin ningún elemento."
   ]
  },
  {
   "cell_type": "code",
   "execution_count": 42,
   "metadata": {},
   "outputs": [],
   "source": [
    "animales = {}"
   ]
  },
  {
   "cell_type": "markdown",
   "metadata": {},
   "source": [
    "2. Crear un conjunto con elementos\n",
    "- Descripción: Crea un conjunto con elementos predefinidos."
   ]
  },
  {
   "cell_type": "code",
   "execution_count": 43,
   "metadata": {},
   "outputs": [
    {
     "name": "stdout",
     "output_type": "stream",
     "text": [
      "{'gato', 'perro', 'vaca', 'mapache', 'cordero', 'ardilla'}\n"
     ]
    }
   ],
   "source": [
    "animales = {\"perro\", \"gato\", \"ardilla\", \"mapache\", \"vaca\", \"cordero\"}\n",
    "print (animales)\n",
    "\n",
    "#Los imprime desordenados."
   ]
  },
  {
   "cell_type": "markdown",
   "metadata": {},
   "source": [
    "3. Agregar elementos a un conjunto\n",
    "- Descripción: Usando el set creado en el ejercicio 2, agrega nuevos elementos. Debereis agregar por separado:\n",
    "    - Un elemento solo\n",
    "    - Un par de elementos a la vez."
   ]
  },
  {
   "cell_type": "code",
   "execution_count": 45,
   "metadata": {},
   "outputs": [
    {
     "name": "stdout",
     "output_type": "stream",
     "text": [
      "{'gato', 'perro', 'vaca', 'mapache', 'cordero', 'koala', 'ardilla'}\n"
     ]
    }
   ],
   "source": [
    "animales2 = animales.copy()\n",
    "animales2.add (\"koala\")\n",
    "print (animales2)\n"
   ]
  },
  {
   "cell_type": "code",
   "execution_count": 46,
   "metadata": {},
   "outputs": [
    {
     "name": "stdout",
     "output_type": "stream",
     "text": [
      "{'gato', 'vaca', 'mapache', 'zorro', 'cordero', 'koala', 'ardilla', 'oso', 'perro'}\n"
     ]
    }
   ],
   "source": [
    "animales_agregados = [\"zorro\", \"oso\"]\n",
    "animales2.update(animales_agregados)\n",
    "print (animales2)\n",
    "\n",
    "#Extend no funcionaba en esta ocasión. decimos hacer un update."
   ]
  },
  {
   "cell_type": "markdown",
   "metadata": {},
   "source": [
    "4. Eliminar un elemento de un conjunto\n",
    "- Descripción: Usando el set creado en el ejercicio 2, elimina un elemento especificado por el usuario."
   ]
  },
  {
   "cell_type": "code",
   "execution_count": 52,
   "metadata": {},
   "outputs": [],
   "source": [
    "respuesta_a = input (f\"escribe uno de los siguientes elementos para que se elimine del set {animales2}\")"
   ]
  },
  {
   "cell_type": "code",
   "execution_count": 53,
   "metadata": {},
   "outputs": [
    {
     "name": "stdout",
     "output_type": "stream",
     "text": [
      "{'gato', 'vaca', 'mapache', 'zorro', 'cordero', 'ardilla', 'oso', 'perro'}\n"
     ]
    }
   ],
   "source": [
    "animales2.remove (respuesta_a)\n",
    "print (animales2)"
   ]
  },
  {
   "cell_type": "markdown",
   "metadata": {},
   "source": [
    "5. Verificar la pertenencia de un elemento en un conjunto\n",
    "- Descripción: Usando el set creado en el ejercicio 2, verifica si un elemento específico está presente en él."
   ]
  },
  {
   "cell_type": "code",
   "execution_count": 54,
   "metadata": {},
   "outputs": [
    {
     "data": {
      "text/plain": [
       "False"
      ]
     },
     "execution_count": 54,
     "metadata": {},
     "output_type": "execute_result"
    }
   ],
   "source": [
    "#preguntamos si \"serpiente\" está presente en el set\n",
    "\n",
    "\"serpiente\"in animales2"
   ]
  },
  {
   "cell_type": "markdown",
   "metadata": {},
   "source": [
    "6. Realizar una unión de conjuntos\n",
    "- Descripción: Dados dos conjuntos, realiza una unión de ellos."
   ]
  },
  {
   "cell_type": "code",
   "execution_count": 58,
   "metadata": {},
   "outputs": [
    {
     "name": "stdout",
     "output_type": "stream",
     "text": [
      "Si unimos el set animales3 y el set animales 2 obetenemos:  {'gato', 'elefante', 'vaca', 'mapache', 'marmota', 'rinoceronte', 'ardilla', 'oso', 'perro', 'zorro', 'cordero'}\n"
     ]
    }
   ],
   "source": [
    "animales3 = {\"elefante\",\"marmota\", \"rinoceronte\"}\n",
    "animales_conjunto = animales2.union(animales3)\n",
    "print (\"Si unimos el set animales3 y el set animales 2 obetenemos: \", animales_conjunto)"
   ]
  },
  {
   "cell_type": "markdown",
   "metadata": {},
   "source": [
    "7. Realizar una intersección de conjuntos\n",
    "- Descripción: Usando dos conjuntos de datos definidos en el ejercicio anterior, realiza una intersección de ellos."
   ]
  },
  {
   "cell_type": "code",
   "execution_count": 59,
   "metadata": {},
   "outputs": [
    {
     "name": "stdout",
     "output_type": "stream",
     "text": [
      "Los elementos en común de los dos sets son:  {'marmota', 'ardilla'}\n"
     ]
    }
   ],
   "source": [
    "#ver que animales coinciden en ambos grupos.\n",
    "animales4 = {\"gallina\", \"marmota\", \"pato\", \"cerdo\", \"ardilla\", }\n",
    "animales_unidos = animales_conjunto.intersection (animales4)\n",
    "print (\"Los elementos en común de los dos sets son: \", animales_unidos)"
   ]
  },
  {
   "cell_type": "markdown",
   "metadata": {},
   "source": [
    "8. Realizar una diferencia de conjuntos\n",
    "- Descripción: Usando dos conjuntos de datos definidos en el ejercicio anterior, realiza una diferencia entre ellos."
   ]
  },
  {
   "cell_type": "code",
   "execution_count": 63,
   "metadata": {},
   "outputs": [
    {
     "name": "stdout",
     "output_type": "stream",
     "text": [
      "{'marmota', 'ardilla'}\n",
      "{'marmota', 'rinoceronte', 'elefante'}\n"
     ]
    }
   ],
   "source": [
    "print(animales_unidos)\n",
    "print (animales3)"
   ]
  },
  {
   "cell_type": "code",
   "execution_count": 66,
   "metadata": {},
   "outputs": [
    {
     "name": "stdout",
     "output_type": "stream",
     "text": [
      "Los animales que estan en el set animales 3 pero no el set animales unidos son:  {'ardilla'}\n"
     ]
    }
   ],
   "source": [
    "animales_unidos.difference(animales3)\n",
    "print(\"Los animales que estan en el set animales 3 pero no el set animales unidos son: \", animales_unidos.difference(animales3))"
   ]
  },
  {
   "cell_type": "markdown",
   "metadata": {},
   "source": [
    "9. Verificar si un conjunto es subconjunto de otro\n",
    "- Descripción: Dados dos conjuntos, verifica si uno es subconjunto del otro."
   ]
  },
  {
   "cell_type": "code",
   "execution_count": 67,
   "metadata": {},
   "outputs": [
    {
     "name": "stdout",
     "output_type": "stream",
     "text": [
      "¿Están los elementos del set 'animales unidos' en el set 'animales 4'? True\n"
     ]
    }
   ],
   "source": [
    "animales_unidos.issubset (animales4)\n",
    "print (\"¿Están los elementos del set 'animales unidos' en el set 'animales 4'?\", animales_unidos.issubset (animales4))"
   ]
  }
 ],
 "metadata": {
  "kernelspec": {
   "display_name": "base",
   "language": "python",
   "name": "python3"
  },
  "language_info": {
   "codemirror_mode": {
    "name": "ipython",
    "version": 3
   },
   "file_extension": ".py",
   "mimetype": "text/x-python",
   "name": "python",
   "nbconvert_exporter": "python",
   "pygments_lexer": "ipython3",
   "version": "3.9.7"
  },
  "orig_nbformat": 4
 },
 "nbformat": 4,
 "nbformat_minor": 2
}
