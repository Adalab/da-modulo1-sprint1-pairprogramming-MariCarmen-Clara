{
 "cells": [
  {
   "cell_type": "markdown",
   "metadata": {},
   "source": [
    "# Pair programming Diccionarios y Sets"
   ]
  },
  {
   "cell_type": "markdown",
   "metadata": {},
   "source": [
    "## Ejercicios diccionarios"
   ]
  },
  {
   "cell_type": "markdown",
   "metadata": {},
   "source": [
    "1. Crear un diccionario vacío\n",
    "- Descripción: Crea un diccionario vacío sin ningún par clave-valor."
   ]
  },
  {
   "cell_type": "code",
   "execution_count": 1,
   "metadata": {},
   "outputs": [],
   "source": [
    "diccionario = { }"
   ]
  },
  {
   "cell_type": "markdown",
   "metadata": {},
   "source": [
    "2. Crear un diccionario con elementos\n",
    "- Descripción: Crea un diccionario con pares clave-valor predefinidos. Definir el diccionario con las claves y valores que querais. NOTA El diccionario debe tener al menos 5 pares de clave:valor."
   ]
  },
  {
   "cell_type": "code",
   "execution_count": 9,
   "metadata": {},
   "outputs": [],
   "source": [
    "diccionario = {\"ciudad\": \"Barcelona\",\"temperatura\": 40, \"densidad\": \"alta\", \"turismo\" : \"alto\", \"transporte_publico\": 4}"
   ]
  },
  {
   "cell_type": "markdown",
   "metadata": {},
   "source": [
    "3. Acceder al valor de una clave en un diccionario\n",
    "- Descripción: Usando el diccionario creado en el paso anterior, obtén el valor correspondiente a una clave específica que indique el usuario (debereis usar la función input() para preguntar al usuario)."
   ]
  },
  {
   "cell_type": "code",
   "execution_count": 10,
   "metadata": {},
   "outputs": [
    {
     "name": "stdout",
     "output_type": "stream",
     "text": [
      "40\n"
     ]
    }
   ],
   "source": [
    "respuesta = input(\"dato de interés de la ciudad\")\n",
    "\n",
    "print(diccionario.get(respuesta))"
   ]
  },
  {
   "cell_type": "markdown",
   "metadata": {},
   "source": [
    "4. Agregar un nuevo par clave-valor a un diccionario\n",
    "- Descripción: Usando el diccionario creado en el ejercicio 2, agrega un nuevo par clave-valor."
   ]
  },
  {
   "cell_type": "code",
   "execution_count": 11,
   "metadata": {},
   "outputs": [
    {
     "name": "stdout",
     "output_type": "stream",
     "text": [
      "{'ciudad': 'Barcelona', 'temperatura': 40, 'densidad': 'alta', 'turismo': 'alto', 'transporte_publico': 4, 'parques': 6}\n"
     ]
    }
   ],
   "source": [
    "nuevo_elemento = {\"parques\" : 6}\n",
    "diccionario.update(nuevo_elemento)\n",
    "print(diccionario)"
   ]
  },
  {
   "cell_type": "markdown",
   "metadata": {},
   "source": [
    "5. Actualizar el valor de una clave en un diccionario\n",
    "- Descripción: Usando el diccionario creado en el ejercicio 2, actualiza el valor correspondiente a una clave existente. \n",
    "\n",
    "Ejemplo:\n",
    "\n",
    "#dado el siguiente diccionario\n",
    "{'nombre': 'Ana', 'edad': 25, 'ciudad': 'Madrid', 'hijos': 1}\n",
    "\n",
    "#el ouptut esperado es: (ha cambiado el valor de la clave edad)\n",
    "{'nombre': 'Ana', 'edad': 40, 'ciudad': 'Madrid', 'hijos': 1}"
   ]
  },
  {
   "cell_type": "code",
   "execution_count": 12,
   "metadata": {},
   "outputs": [
    {
     "data": {
      "text/plain": [
       "str"
      ]
     },
     "execution_count": 12,
     "metadata": {},
     "output_type": "execute_result"
    }
   ],
   "source": [
    "diccionario.get(\"densidad\")\n",
    "type(\"densidad\")"
   ]
  },
  {
   "cell_type": "code",
   "execution_count": 13,
   "metadata": {},
   "outputs": [
    {
     "name": "stdout",
     "output_type": "stream",
     "text": [
      "{'ciudad': 'Barcelona', 'temperatura': 40, 'densidad': 'baja', 'turismo': 'alto', 'transporte_publico': 4, 'parques': 6}\n"
     ]
    }
   ],
   "source": [
    "diccionario[\"densidad\"] = \"baja\"\n",
    "print (diccionario)"
   ]
  },
  {
   "cell_type": "markdown",
   "metadata": {},
   "source": [
    "6. Eliminar un par clave-valor de un diccionario\n",
    "- Descripción: Usando el diccionario creado en el ejercicio 2, elimina un par clave-valor específico que indique el usuario (debereis usar la función input() para preguntar al usuario)."
   ]
  },
  {
   "cell_type": "code",
   "execution_count": 19,
   "metadata": {},
   "outputs": [
    {
     "name": "stdout",
     "output_type": "stream",
     "text": [
      "{'ciudad': 'Barcelona', 'densidad': 'baja', 'turismo': 'alto', 'transporte_publico': 4, 'parques': 6}\n"
     ]
    }
   ],
   "source": [
    "print (diccionario)"
   ]
  },
  {
   "cell_type": "code",
   "execution_count": 22,
   "metadata": {},
   "outputs": [
    {
     "name": "stdout",
     "output_type": "stream",
     "text": [
      "temperatura\n"
     ]
    }
   ],
   "source": [
    "#respuesta = input(\"dato que quieres eliminar de la ciudad\")\n",
    "# print(ciudades.get(respuesta))\n",
    "\n",
    "respuesta2 = input(f\"¿que quieres eliminar? { diccionario.keys()}\")\n",
    "print (respuesta2)\n",
    "\n"
   ]
  },
  {
   "cell_type": "code",
   "execution_count": 23,
   "metadata": {},
   "outputs": [
    {
     "name": "stdout",
     "output_type": "stream",
     "text": [
      "{'ciudad': 'Barcelona', 'densidad': 'baja', 'turismo': 'alto', 'transporte_publico': 4, 'parques': 6}\n"
     ]
    }
   ],
   "source": [
    "print (diccionario)"
   ]
  },
  {
   "cell_type": "markdown",
   "metadata": {},
   "source": [
    "7. Verificar si una clave está presente en un diccionario\n",
    "- Descripción: Usando el diccionario creado en el ejercicio 2, verifica si una clave específica está presente en él. La clave a buscar debe ser pasada por el usuario, debereis usar un input()."
   ]
  },
  {
   "cell_type": "code",
   "execution_count": 24,
   "metadata": {},
   "outputs": [],
   "source": [
    "#Primero tengo que recuperar mi diccionario# \n",
    " \n",
    "diccionario = {}\n",
    "diccionario = {\"ciudad\": \"Barcelona\",\"temperatura\": 40, \"densidad\": \"alta\", \"turismo\" : \"alto\", \"transporte_publico\": 4}\n"
   ]
  },
  {
   "cell_type": "code",
   "execution_count": 25,
   "metadata": {},
   "outputs": [
    {
     "data": {
      "text/plain": [
       "True"
      ]
     },
     "execution_count": 25,
     "metadata": {},
     "output_type": "execute_result"
    }
   ],
   "source": [
    "input() in diccionario \n",
    "#El input que utilizamos y que nos dió True fue turismo, por lo tanto, se verifica que está dentro de nuestro diccionario.\n"
   ]
  },
  {
   "cell_type": "markdown",
   "metadata": {},
   "source": [
    "8. Obtener una lista de todas las claves de un diccionario\n",
    "- Descripción: Usando el diccionario creado en el ejercicio 2, obtén una lista con todas las claves que contiene."
   ]
  },
  {
   "cell_type": "code",
   "execution_count": 26,
   "metadata": {},
   "outputs": [
    {
     "data": {
      "text/plain": [
       "dict_keys(['ciudad', 'temperatura', 'densidad', 'turismo', 'transporte_publico'])"
      ]
     },
     "execution_count": 26,
     "metadata": {},
     "output_type": "execute_result"
    }
   ],
   "source": [
    "diccionario = {\"ciudad\": \"Barcelona\",\"temperatura\": 40, \"densidad\": \"alta\", \"turismo\" : \"alto\", \"transporte_publico\": 4}\n",
    "\n",
    "diccionario.keys()"
   ]
  },
  {
   "cell_type": "markdown",
   "metadata": {},
   "source": [
    "9. Obtener una lista de todos los valores de un diccionario\n",
    "- Descripción: Usando el diccionario creado en el ejercicio 2, obtén una lista con todos los valores que contiene."
   ]
  },
  {
   "cell_type": "code",
   "execution_count": 28,
   "metadata": {},
   "outputs": [
    {
     "data": {
      "text/plain": [
       "dict_values(['Barcelona', 40, 'alta', 'alto', 4])"
      ]
     },
     "execution_count": 28,
     "metadata": {},
     "output_type": "execute_result"
    }
   ],
   "source": [
    "diccionario = {\"ciudad\": \"Barcelona\",\"temperatura\": 40, \"densidad\": \"alta\", \"turismo\" : \"alto\", \"transporte_publico\": 4}  \n",
    "#No nos importa repetir la lista porque parece que es más fácil a la hora de poder realizar el ejercicio.\n",
    "diccionario. values()\n"
   ]
  },
  {
   "cell_type": "markdown",
   "metadata": {},
   "source": [
    "10. Utilizar el método setdefault() para establecer un valor predeterminado si la clave no existe\n",
    "- Descripción: Usando el diccionario creado en el ejercicio 2, obten el valor correspondiente a una clave. Si la clave no existe, establece un valor predeterminado y devuelve dicho valor."
   ]
  },
  {
   "cell_type": "code",
   "execution_count": 29,
   "metadata": {},
   "outputs": [
    {
     "name": "stdout",
     "output_type": "stream",
     "text": [
      "{'ciudad': 'Barcelona', 'temperatura': 40, 'densidad': 'alta', 'turismo': 'alto', 'transporte_publico': 4}\n"
     ]
    }
   ],
   "source": [
    "diccionario.setdefault (\"temperatura\", 40)\n",
    "print (diccionario)\n",
    "#Vuelve a aparecer la temperatura que borramos en el ejercicio anterior."
   ]
  },
  {
   "cell_type": "markdown",
   "metadata": {},
   "source": [
    "11. Manipulación de un diccionario utilizando pop() y popitem()\n",
    "- Descripción: Usando el diccionario creado en el ejercicio 2, realiza operaciones de eliminación utilizando pop() y popitem(), y observa cómo afectan al diccionario."
   ]
  },
  {
   "cell_type": "code",
   "execution_count": 30,
   "metadata": {},
   "outputs": [
    {
     "name": "stdout",
     "output_type": "stream",
     "text": [
      "{'ciudad': 'Barcelona', 'densidad': 'alta', 'turismo': 'alto', 'transporte_publico': 4}\n"
     ]
    }
   ],
   "source": [
    "diccionario.pop (\"temperatura\")\n",
    "print (diccionario)\n",
    "#De nuevo volvemos a quitar la temperatura."
   ]
  },
  {
   "cell_type": "markdown",
   "metadata": {},
   "source": [
    "## Ejercicios sets"
   ]
  },
  {
   "cell_type": "markdown",
   "metadata": {},
   "source": [
    "1. Crear un conjunto vacío\n",
    "- Descripción: Crea un conjunto vacío sin ningún elemento."
   ]
  },
  {
   "cell_type": "code",
   "execution_count": 31,
   "metadata": {},
   "outputs": [],
   "source": [
    "animales = {}"
   ]
  },
  {
   "cell_type": "markdown",
   "metadata": {},
   "source": [
    "2. Crear un conjunto con elementos\n",
    "- Descripción: Crea un conjunto con elementos predefinidos."
   ]
  },
  {
   "cell_type": "code",
   "execution_count": 32,
   "metadata": {},
   "outputs": [
    {
     "name": "stdout",
     "output_type": "stream",
     "text": [
      "{'mapache', 'vaca', 'ardilla', 'cordero', 'gato', 'perro'}\n"
     ]
    }
   ],
   "source": [
    "animales = {\"perro\", \"gato\", \"ardilla\", \"mapache\", \"vaca\", \"cordero\"}\n",
    "print (animales)\n",
    "\n",
    "#Los imprime desordenados."
   ]
  },
  {
   "cell_type": "markdown",
   "metadata": {},
   "source": [
    "3. Agregar elementos a un conjunto\n",
    "- Descripción: Usando el set creado en el ejercicio 2, agrega nuevos elementos. Debereis agregar por separado:\n",
    "    - Un elemento solo\n",
    "    - Un par de elementos a la vez."
   ]
  },
  {
   "cell_type": "code",
   "execution_count": 33,
   "metadata": {},
   "outputs": [
    {
     "name": "stdout",
     "output_type": "stream",
     "text": [
      "{'mapache', 'vaca', 'ardilla', 'cordero', 'gato', 'koala', 'perro'}\n"
     ]
    }
   ],
   "source": [
    "animales2 = animales.copy()\n",
    "animales2.add (\"koala\")\n",
    "print (animales2)\n"
   ]
  },
  {
   "cell_type": "code",
   "execution_count": 35,
   "metadata": {},
   "outputs": [
    {
     "name": "stdout",
     "output_type": "stream",
     "text": [
      "{'mapache', 'vaca', 'oso', 'gato', 'koala', 'zorro', 'perro', 'ardilla', 'cordero'}\n"
     ]
    }
   ],
   "source": [
    "animales_agregados = [\"zorro\", \"oso\"]\n",
    "animales2.update(animales_agregados)\n",
    "print (animales2)\n",
    "\n",
    "#Extend no funcionaba en esta ocasión. decimos hacer un update."
   ]
  },
  {
   "cell_type": "markdown",
   "metadata": {},
   "source": [
    "4. Eliminar un elemento de un conjunto\n",
    "- Descripción: Usando el set creado en el ejercicio 2, elimina un elemento especificado por el usuario."
   ]
  },
  {
   "cell_type": "code",
   "execution_count": 36,
   "metadata": {},
   "outputs": [
    {
     "name": "stdout",
     "output_type": "stream",
     "text": [
      "{'mapache', 'vaca', 'gato', 'koala', 'zorro', 'perro', 'ardilla', 'cordero'}\n"
     ]
    }
   ],
   "source": [
    "animales2.remove (\"oso\")\n",
    "print (animales2)"
   ]
  },
  {
   "cell_type": "markdown",
   "metadata": {},
   "source": [
    "5. Verificar la pertenencia de un elemento en un conjunto\n",
    "- Descripción: Usando el set creado en el ejercicio 2, verifica si un elemento específico está presente en él."
   ]
  },
  {
   "cell_type": "code",
   "execution_count": 37,
   "metadata": {},
   "outputs": [
    {
     "data": {
      "text/plain": [
       "False"
      ]
     },
     "execution_count": 37,
     "metadata": {},
     "output_type": "execute_result"
    }
   ],
   "source": [
    "\"serpiente\"in animales2"
   ]
  },
  {
   "cell_type": "markdown",
   "metadata": {},
   "source": [
    "6. Realizar una unión de conjuntos\n",
    "- Descripción: Dados dos conjuntos, realiza una unión de ellos."
   ]
  },
  {
   "cell_type": "code",
   "execution_count": 38,
   "metadata": {},
   "outputs": [
    {
     "name": "stdout",
     "output_type": "stream",
     "text": [
      "{'mapache', 'vaca', 'zorro', 'gato', 'koala', 'perro', 'ardilla', 'cordero', 'elefante', 'rinoceronte', 'marmota'}\n"
     ]
    }
   ],
   "source": [
    "animales3 = {\"elefante\",\"marmota\", \"rinoceronte\"}\n",
    "animales_conjunto = animales2.union(animales3)\n",
    "print (animales_conjunto)"
   ]
  },
  {
   "cell_type": "markdown",
   "metadata": {},
   "source": [
    "7. Realizar una intersección de conjuntos\n",
    "- Descripción: Usando dos conjuntos de datos definidos en el ejercicio anterior, realiza una intersección de ellos."
   ]
  },
  {
   "cell_type": "code",
   "execution_count": 39,
   "metadata": {},
   "outputs": [
    {
     "name": "stdout",
     "output_type": "stream",
     "text": [
      "{'ardilla', 'marmota'}\n"
     ]
    }
   ],
   "source": [
    "#ver que animales coinciden en ambos grupos.\n",
    "animales4 = {\"gallina\", \"marmota\", \"pato\", \"cerdo\", \"ardilla\", }\n",
    "animales_unidos = animales_conjunto.intersection (animales4)\n",
    "print (animales_unidos)"
   ]
  },
  {
   "cell_type": "markdown",
   "metadata": {},
   "source": [
    "8. Realizar una diferencia de conjuntos\n",
    "- Descripción: Usando dos conjuntos de datos definidos en el ejercicio anterior, realiza una diferencia entre ellos."
   ]
  },
  {
   "cell_type": "code",
   "execution_count": 40,
   "metadata": {},
   "outputs": [
    {
     "data": {
      "text/plain": [
       "{'ardilla'}"
      ]
     },
     "execution_count": 40,
     "metadata": {},
     "output_type": "execute_result"
    }
   ],
   "source": [
    "animales_unidos.difference(animales3)"
   ]
  },
  {
   "cell_type": "markdown",
   "metadata": {},
   "source": [
    "9. Verificar si un conjunto es subconjunto de otro\n",
    "- Descripción: Dados dos conjuntos, verifica si uno es subconjunto del otro."
   ]
  },
  {
   "cell_type": "code",
   "execution_count": 41,
   "metadata": {},
   "outputs": [
    {
     "data": {
      "text/plain": [
       "True"
      ]
     },
     "execution_count": 41,
     "metadata": {},
     "output_type": "execute_result"
    }
   ],
   "source": [
    "animales_unidos.issubset (animales4)"
   ]
  }
 ],
 "metadata": {
  "kernelspec": {
   "display_name": "base",
   "language": "python",
   "name": "python3"
  },
  "language_info": {
   "codemirror_mode": {
    "name": "ipython",
    "version": 3
   },
   "file_extension": ".py",
   "mimetype": "text/x-python",
   "name": "python",
   "nbconvert_exporter": "python",
   "pygments_lexer": "ipython3",
   "version": "3.9.7"
  },
  "orig_nbformat": 4
 },
 "nbformat": 4,
 "nbformat_minor": 2
}
