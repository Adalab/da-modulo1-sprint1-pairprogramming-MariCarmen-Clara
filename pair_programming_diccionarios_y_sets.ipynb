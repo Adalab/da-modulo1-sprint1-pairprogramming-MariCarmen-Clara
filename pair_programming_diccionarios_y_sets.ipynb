{
 "cells": [
  {
   "cell_type": "markdown",
   "metadata": {},
   "source": [
    "# Pair programming Diccionarios y Sets"
   ]
  },
  {
   "cell_type": "markdown",
   "metadata": {},
   "source": [
    "## Ejercicios diccionarios"
   ]
  },
  {
   "cell_type": "markdown",
   "metadata": {},
   "source": [
    "1. Crear un diccionario vacío\n",
    "- Descripción: Crea un diccionario vacío sin ningún par clave-valor."
   ]
  },
  {
   "cell_type": "code",
   "execution_count": 4,
   "metadata": {},
   "outputs": [],
   "source": [
    "diccionario = { \"\" : [],\n",
    "               \"\" : []}"
   ]
  },
  {
   "cell_type": "markdown",
   "metadata": {},
   "source": [
    "2. Crear un diccionario con elementos\n",
    "- Descripción: Crea un diccionario con pares clave-valor predefinidos. Definir el diccionario con las claves y valores que querais. NOTA El diccionario debe tener al menos 5 pares de clave:valor."
   ]
  },
  {
   "cell_type": "code",
   "execution_count": 5,
   "metadata": {},
   "outputs": [],
   "source": [
    "ciudades = {\"ciudad\": \"Barcelona\",\"temperatura\": 40, \"densidad\": \"alta\", \"turismo\" : \"alto\", \"transporte_publico\": 4}"
   ]
  },
  {
   "cell_type": "markdown",
   "metadata": {},
   "source": [
    "3. Acceder al valor de una clave en un diccionario\n",
    "- Descripción: Usando el diccionario creado en el paso anterior, obtén el valor correspondiente a una clave específica que indique el usuario (debereis usar la función input() para preguntar al usuario)."
   ]
  },
  {
   "cell_type": "code",
   "execution_count": 20,
   "metadata": {},
   "outputs": [
    {
     "name": "stdout",
     "output_type": "stream",
     "text": [
      "40\n"
     ]
    }
   ],
   "source": [
    "respuesta = input(\"dato de interés de la ciudad\")\n",
    "\n",
    "print(ciudades.get(respuesta))"
   ]
  },
  {
   "cell_type": "markdown",
   "metadata": {},
   "source": [
    "4. Agregar un nuevo par clave-valor a un diccionario\n",
    "- Descripción: Usando el diccionario creado en el ejercicio 2, agrega un nuevo par clave-valor."
   ]
  },
  {
   "cell_type": "code",
   "execution_count": 17,
   "metadata": {},
   "outputs": [
    {
     "name": "stdout",
     "output_type": "stream",
     "text": [
      "{'ciudad': 'Barcelona', 'temperatura': 40, 'densidad': 'alta', 'turismo': 'alto', 'transporte_publico': 4, 'parques': 6}\n"
     ]
    }
   ],
   "source": [
    "nuevo_elemento = {\"parques\" : 6}\n",
    "ciudades.update(nuevo_elemento)\n",
    "print(ciudades)"
   ]
  },
  {
   "cell_type": "markdown",
   "metadata": {},
   "source": [
    "5. Actualizar el valor de una clave en un diccionario\n",
    "- Descripción: Usando el diccionario creado en el ejercicio 2, actualiza el valor correspondiente a una clave existente. \n",
    "\n",
    "Ejemplo:\n",
    "\n",
    "#dado el siguiente diccionario\n",
    "{'nombre': 'Ana', 'edad': 25, 'ciudad': 'Madrid', 'hijos': 1}\n",
    "\n",
    "#el ouptut esperado es: (ha cambiado el valor de la clave edad)\n",
    "{'nombre': 'Ana', 'edad': 40, 'ciudad': 'Madrid', 'hijos': 1}"
   ]
  },
  {
   "cell_type": "code",
   "execution_count": 24,
   "metadata": {},
   "outputs": [
    {
     "data": {
      "text/plain": [
       "str"
      ]
     },
     "execution_count": 24,
     "metadata": {},
     "output_type": "execute_result"
    }
   ],
   "source": [
    "ciudades.get(\"densidad\")\n",
    "type(\"densidad\")"
   ]
  },
  {
   "cell_type": "code",
   "execution_count": 27,
   "metadata": {},
   "outputs": [
    {
     "name": "stdout",
     "output_type": "stream",
     "text": [
      "{'ciudad': 'Barcelona', 'temperatura': 40, 'densidad': 'baja', 'turismo': 'alto', 'transporte_publico': 4, 'parques': 6}\n"
     ]
    }
   ],
   "source": [
    "ciudades[\"densidad\"] = \"baja\"\n",
    "print (ciudades)"
   ]
  },
  {
   "cell_type": "markdown",
   "metadata": {},
   "source": [
    "6. Eliminar un par clave-valor de un diccionario\n",
    "- Descripción: Usando el diccionario creado en el ejercicio 2, elimina un par clave-valor específico que indique el usuario (debereis usar la función input() para preguntar al usuario)."
   ]
  },
  {
   "cell_type": "code",
   "execution_count": 37,
   "metadata": {},
   "outputs": [
    {
     "name": "stdout",
     "output_type": "stream",
     "text": [
      "{'ciudad': 'Barcelona', 'temperatura': 40, 'densidad': 'baja', 'turismo': 'alto', 'transporte_publico': 4, 'parques': 6}\n"
     ]
    }
   ],
   "source": [
    "print (ciudades)"
   ]
  },
  {
   "cell_type": "code",
   "execution_count": null,
   "metadata": {},
   "outputs": [],
   "source": []
  },
  {
   "cell_type": "code",
   "execution_count": 42,
   "metadata": {},
   "outputs": [
    {
     "name": "stdout",
     "output_type": "stream",
     "text": [
      "sdfnjkshg\n"
     ]
    },
    {
     "ename": "KeyError",
     "evalue": "'sdfnjkshg'",
     "output_type": "error",
     "traceback": [
      "\u001b[0;31m---------------------------------------------------------------------------\u001b[0m",
      "\u001b[0;31mKeyError\u001b[0m                                  Traceback (most recent call last)",
      "\u001b[0;32m/var/folders/fy/lv_7fpvj1v5grf8t28cz_4nw0000gn/T/ipykernel_7187/2373470487.py\u001b[0m in \u001b[0;36m<module>\u001b[0;34m\u001b[0m\n\u001b[1;32m      4\u001b[0m \u001b[0mrespuesta2\u001b[0m \u001b[0;34m=\u001b[0m \u001b[0minput\u001b[0m\u001b[0;34m(\u001b[0m\u001b[0;34mf\"¿que quieres eliminar? { ciudades.keys()}\"\u001b[0m\u001b[0;34m)\u001b[0m\u001b[0;34m\u001b[0m\u001b[0;34m\u001b[0m\u001b[0m\n\u001b[1;32m      5\u001b[0m \u001b[0mprint\u001b[0m \u001b[0;34m(\u001b[0m\u001b[0mrespuesta2\u001b[0m\u001b[0;34m)\u001b[0m\u001b[0;34m\u001b[0m\u001b[0;34m\u001b[0m\u001b[0m\n\u001b[0;32m----> 6\u001b[0;31m \u001b[0mprint\u001b[0m \u001b[0;34m(\u001b[0m\u001b[0mciudades\u001b[0m\u001b[0;34m.\u001b[0m\u001b[0mpop\u001b[0m\u001b[0;34m(\u001b[0m\u001b[0mrespuesta2\u001b[0m\u001b[0;34m)\u001b[0m\u001b[0;34m)\u001b[0m\u001b[0;34m\u001b[0m\u001b[0;34m\u001b[0m\u001b[0m\n\u001b[0m\u001b[1;32m      7\u001b[0m \u001b[0;34m\u001b[0m\u001b[0m\n",
      "\u001b[0;31mKeyError\u001b[0m: 'sdfnjkshg'"
     ]
    }
   ],
   "source": [
    "#respuesta = input(\"dato de interés de la ciudad\")\n",
    "# print(ciudades.get(respuesta))\n",
    "\n",
    "respuesta2 = input(f\"¿que quieres eliminar? { ciudades.keys()}\")\n",
    "print (respuesta2)\n",
    "print (ciudades.pop(respuesta2))\n",
    "\n"
   ]
  },
  {
   "cell_type": "code",
   "execution_count": 41,
   "metadata": {},
   "outputs": [
    {
     "name": "stdout",
     "output_type": "stream",
     "text": [
      "{'ciudad': 'Barcelona', 'temperatura': 40, 'densidad': 'baja', 'turismo': 'alto', 'transporte_publico': 4}\n"
     ]
    }
   ],
   "source": [
    "print (ciudades)"
   ]
  },
  {
   "cell_type": "markdown",
   "metadata": {},
   "source": [
    "7. Verificar si una clave está presente en un diccionario\n",
    "- Descripción: Usando el diccionario creado en el ejercicio 2, verifica si una clave específica está presente en él. La clave a buscar debe ser pasada por el usuario, debereis usar un input()."
   ]
  },
  {
   "cell_type": "markdown",
   "metadata": {},
   "source": [
    "8. Obtener una lista de todas las claves de un diccionario\n",
    "- Descripción: Usando el diccionario creado en el ejercicio 2, obtén una lista con todas las claves que contiene."
   ]
  },
  {
   "cell_type": "markdown",
   "metadata": {},
   "source": [
    "9. Obtener una lista de todos los valores de un diccionario\n",
    "- Descripción: Usando el diccionario creado en el ejercicio 2, obtén una lista con todos los valores que contiene."
   ]
  },
  {
   "cell_type": "markdown",
   "metadata": {},
   "source": [
    "10. Utilizar el método setdefault() para establecer un valor predeterminado si la clave no existe\n",
    "- Descripción: Usando el diccionario creado en el ejercicio 2, obten el valor correspondiente a una clave. Si la clave no existe, establece un valor predeterminado y devuelve dicho valor."
   ]
  },
  {
   "cell_type": "markdown",
   "metadata": {},
   "source": [
    "11. Manipulación de un diccionario utilizando pop() y popitem()\n",
    "- Descripción: Usando el diccionario creado en el ejercicio 2, realiza operaciones de eliminación utilizando pop() y popitem(), y observa cómo afectan al diccionario."
   ]
  },
  {
   "cell_type": "markdown",
   "metadata": {},
   "source": [
    "## Ejercicios sets"
   ]
  },
  {
   "cell_type": "markdown",
   "metadata": {},
   "source": [
    "1. Crear un conjunto vacío\n",
    "- Descripción: Crea un conjunto vacío sin ningún elemento."
   ]
  },
  {
   "cell_type": "markdown",
   "metadata": {},
   "source": [
    "2. Crear un conjunto con elementos\n",
    "- Descripción: Crea un conjunto con elementos predefinidos."
   ]
  },
  {
   "cell_type": "markdown",
   "metadata": {},
   "source": [
    "3. Agregar elementos a un conjunto\n",
    "- Descripción: Usando el set creado en el ejercicio 2, agrega nuevos elementos. Debereis agregar por separado:\n",
    "    - Un elemento solo\n",
    "    - Un par de elementos a la vez."
   ]
  },
  {
   "cell_type": "markdown",
   "metadata": {},
   "source": [
    "4. Eliminar un elemento de un conjunto\n",
    "- Descripción: Usando el set creado en el ejercicio 2, elimina un elemento especificado por el usuario."
   ]
  },
  {
   "cell_type": "markdown",
   "metadata": {},
   "source": [
    "5. Verificar la pertenencia de un elemento en un conjunto\n",
    "- Descripción: Usando el set creado en el ejercicio 2, verifica si un elemento específico está presente en él."
   ]
  },
  {
   "cell_type": "markdown",
   "metadata": {},
   "source": [
    "6. Realizar una unión de conjuntos\n",
    "- Descripción: Dados dos conjuntos, realiza una unión de ellos."
   ]
  },
  {
   "cell_type": "markdown",
   "metadata": {},
   "source": [
    "7. Realizar una intersección de conjuntos\n",
    "- Descripción: Usando dos conjuntos de datos definidos en el ejercicio anterior, realiza una intersección de ellos."
   ]
  },
  {
   "cell_type": "markdown",
   "metadata": {},
   "source": [
    "8. Realizar una diferencia de conjuntos\n",
    "- Descripción: Usando dos conjuntos de datos definidos en el ejercicio anterior, realiza una diferencia entre ellos."
   ]
  },
  {
   "cell_type": "markdown",
   "metadata": {},
   "source": [
    "9. Verificar si un conjunto es subconjunto de otro\n",
    "- Descripción: Dados dos conjuntos, verifica si uno es subconjunto del otro."
   ]
  }
 ],
 "metadata": {
  "kernelspec": {
   "display_name": "base",
   "language": "python",
   "name": "python3"
  },
  "language_info": {
   "codemirror_mode": {
    "name": "ipython",
    "version": 3
   },
   "file_extension": ".py",
   "mimetype": "text/x-python",
   "name": "python",
   "nbconvert_exporter": "python",
   "pygments_lexer": "ipython3",
   "version": "3.9.7"
  },
  "orig_nbformat": 4
 },
 "nbformat": 4,
 "nbformat_minor": 2
}
